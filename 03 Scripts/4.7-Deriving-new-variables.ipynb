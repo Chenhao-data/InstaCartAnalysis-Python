{
 "cells": [
  {
   "cell_type": "markdown",
   "id": "1106e8fd",
   "metadata": {},
   "source": [
    "# Importing Libraries"
   ]
  },
  {
   "cell_type": "code",
   "execution_count": 1,
   "id": "d9260e0b",
   "metadata": {},
   "outputs": [],
   "source": [
    "import pandas as pd\n",
    "import numpy as np\n",
    "import os"
   ]
  },
  {
   "cell_type": "markdown",
   "id": "11bb7760",
   "metadata": {},
   "source": [
    "# Importing Data"
   ]
  },
  {
   "cell_type": "code",
   "execution_count": 2,
   "id": "285e8dde",
   "metadata": {},
   "outputs": [],
   "source": [
    "path=r\"C:\\Users\\chenh\\z_Careerfoundry\\A4_Instacart Basket Analysis\"\n",
    "\n",
    "df_ords_prods_merge = pd.read_pickle(os.path.join(path, '02 Data', 'Prepared Data', 'ords_prods_merge.pkl'))"
   ]
  },
  {
   "cell_type": "markdown",
   "id": "db9e05e5",
   "metadata": {},
   "source": [
    "# If-Statements with User-Defined Functions"
   ]
  },
  {
   "cell_type": "code",
   "execution_count": 3,
   "id": "4d74715c",
   "metadata": {},
   "outputs": [],
   "source": [
    "# Create a subset\n",
    "df_merged_part=df_ords_prods_merge[:100000]"
   ]
  },
  {
   "cell_type": "code",
   "execution_count": 4,
   "id": "7924a501",
   "metadata": {},
   "outputs": [],
   "source": [
    "# Define a function for price labels\n",
    "\n",
    "def price_label(row):\n",
    "\n",
    "  if row['prices'] <= 5:\n",
    "    return 'Low-range product'\n",
    "  elif (row['prices'] > 5) and (row['prices'] <= 15):\n",
    "    return 'Mid-range product'\n",
    "  elif row['prices'] > 15:\n",
    "    return 'High range'\n",
    "  else: return 'Not enough data'"
   ]
  },
  {
   "cell_type": "code",
   "execution_count": 5,
   "id": "2b8e01a8",
   "metadata": {},
   "outputs": [
    {
     "name": "stderr",
     "output_type": "stream",
     "text": [
      "C:\\Users\\chenh\\AppData\\Local\\Temp/ipykernel_17912/3156898998.py:2: SettingWithCopyWarning: \n",
      "A value is trying to be set on a copy of a slice from a DataFrame.\n",
      "Try using .loc[row_indexer,col_indexer] = value instead\n",
      "\n",
      "See the caveats in the documentation: https://pandas.pydata.org/pandas-docs/stable/user_guide/indexing.html#returning-a-view-versus-a-copy\n",
      "  df_merged_part['price_range']=df_merged_part.apply(price_label,axis=1)\n"
     ]
    }
   ],
   "source": [
    "# Apply price range function.\n",
    "df_merged_part['price_range']=df_merged_part.apply(price_label,axis=1)"
   ]
  },
  {
   "cell_type": "code",
   "execution_count": 6,
   "id": "c83cffd9",
   "metadata": {},
   "outputs": [
    {
     "data": {
      "text/plain": [
       "Mid-range product    87841\n",
       "Low-range product    12159\n",
       "Name: price_range, dtype: int64"
      ]
     },
     "execution_count": 6,
     "metadata": {},
     "output_type": "execute_result"
    }
   ],
   "source": [
    "df_merged_part['price_range'].value_counts(dropna=False)"
   ]
  },
  {
   "cell_type": "markdown",
   "id": "e0a90176",
   "metadata": {},
   "source": [
    "# If-Statements with the loc() Function"
   ]
  },
  {
   "cell_type": "code",
   "execution_count": 7,
   "id": "5c41e649",
   "metadata": {},
   "outputs": [],
   "source": [
    "df_ords_prods_merge.loc[df_ords_prods_merge['prices']>15,'price_range_loc'] = 'High-range product'"
   ]
  },
  {
   "cell_type": "code",
   "execution_count": 8,
   "id": "7fd20138",
   "metadata": {},
   "outputs": [],
   "source": [
    "df_ords_prods_merge.loc[(df_ords_prods_merge['prices']>5) &(df_ords_prods_merge['prices']<=15),'price_range_loc']= 'Mid-range product'"
   ]
  },
  {
   "cell_type": "code",
   "execution_count": 9,
   "id": "fda1302a",
   "metadata": {},
   "outputs": [],
   "source": [
    "df_ords_prods_merge.loc[df_ords_prods_merge['prices'] <= 5, 'price_range_loc'] = 'Low-range product'"
   ]
  },
  {
   "cell_type": "code",
   "execution_count": 10,
   "id": "028ff7ee",
   "metadata": {},
   "outputs": [
    {
     "data": {
      "text/plain": [
       "Mid-range product     21865987\n",
       "Low-range product     10126321\n",
       "High-range product      412551\n",
       "Name: price_range_loc, dtype: int64"
      ]
     },
     "execution_count": 10,
     "metadata": {},
     "output_type": "execute_result"
    }
   ],
   "source": [
    "df_ords_prods_merge['price_range_loc'].value_counts(dropna = False)"
   ]
  },
  {
   "cell_type": "markdown",
   "id": "7e7f61fc",
   "metadata": {},
   "source": [
    "# If-Statements with For-Loops"
   ]
  },
  {
   "cell_type": "code",
   "execution_count": 11,
   "id": "7c14382e",
   "metadata": {},
   "outputs": [
    {
     "data": {
      "text/plain": [
       "0    6204182\n",
       "1    5660230\n",
       "6    4496490\n",
       "2    4213830\n",
       "5    4205791\n",
       "3    3840534\n",
       "4    3783802\n",
       "Name: orders_day_of_week, dtype: int64"
      ]
     },
     "execution_count": 11,
     "metadata": {},
     "output_type": "execute_result"
    }
   ],
   "source": [
    "# Find frequency of orders_day_of_week.\n",
    "df_ords_prods_merge['orders_day_of_week'].value_counts(dropna=False)"
   ]
  },
  {
   "cell_type": "code",
   "execution_count": 12,
   "id": "f73c69bb",
   "metadata": {},
   "outputs": [],
   "source": [
    "result = []\n",
    "\n",
    "for value in df_ords_prods_merge['orders_day_of_week']:\n",
    "    if value==0:\n",
    "        result.append('Busiest day')\n",
    "    elif value==4:\n",
    "        result.append(\"Least busy\")\n",
    "    else:\n",
    "        result.append(\"Regularly busy\")"
   ]
  },
  {
   "cell_type": "code",
   "execution_count": 13,
   "id": "8d2ad512",
   "metadata": {},
   "outputs": [],
   "source": [
    "# Create new column in ords_prods_merge to view results in context.\n",
    "df_ords_prods_merge['busiest_day'] = result"
   ]
  },
  {
   "cell_type": "code",
   "execution_count": 14,
   "id": "d1aad56d",
   "metadata": {},
   "outputs": [
    {
     "data": {
      "text/plain": [
       "Regularly busy    22416875\n",
       "Busiest day        6204182\n",
       "Least busy         3783802\n",
       "Name: busiest_day, dtype: int64"
      ]
     },
     "execution_count": 14,
     "metadata": {},
     "output_type": "execute_result"
    }
   ],
   "source": [
    "df_ords_prods_merge['busiest_day'].value_counts(dropna=False)"
   ]
  },
  {
   "cell_type": "markdown",
   "id": "1dbe1c59",
   "metadata": {},
   "source": [
    "# Task"
   ]
  },
  {
   "cell_type": "markdown",
   "id": "6d75545b",
   "metadata": {},
   "source": [
    "## STEP2"
   ]
  },
  {
   "cell_type": "code",
   "execution_count": 15,
   "id": "76c34ea9",
   "metadata": {},
   "outputs": [],
   "source": [
    "# Create column “busiest_days\" from \"orders_day_of_week\" to identify two busiest days (0, 1), slowest days (4, 3), or regularly busy (all other days).\n",
    "\n",
    "result_2=[]\n",
    "for value in df_ords_prods_merge['orders_day_of_week']:\n",
    "    if value==0 or value==1:\n",
    "        result_2.append('Busiest days')\n",
    "    elif value == 4 or value == 3:\n",
    "        result_2.append(\"Slowest days\")\n",
    "    else:\n",
    "        result_2.append(\"Regularly busy\")"
   ]
  },
  {
   "cell_type": "code",
   "execution_count": 16,
   "id": "1d0c63fb",
   "metadata": {},
   "outputs": [],
   "source": [
    "# Create new 'busiest_days' column in ords_prods_merge to view results in context.\n",
    "\n",
    "df_ords_prods_merge['busiest_days'] = result_2"
   ]
  },
  {
   "cell_type": "code",
   "execution_count": 17,
   "id": "9144dcde",
   "metadata": {},
   "outputs": [
    {
     "data": {
      "text/plain": [
       "Regularly busy    12916111\n",
       "Busiest days      11864412\n",
       "Slowest days       7624336\n",
       "Name: busiest_days, dtype: int64"
      ]
     },
     "execution_count": 17,
     "metadata": {},
     "output_type": "execute_result"
    }
   ],
   "source": [
    "df_ords_prods_merge['busiest_days'].value_counts(dropna = False)"
   ]
  },
  {
   "cell_type": "markdown",
   "id": "62935753",
   "metadata": {},
   "source": [
    "## STEP3"
   ]
  },
  {
   "cell_type": "markdown",
   "id": "e3ee8e79",
   "metadata": {},
   "source": [
    "Total \"Busiest days\" = 11864412, which matches orders_day_of_week 0 + 1, or 6204182 + 5660230).\n",
    "Total \"Slowest days\" = 7624336, which matches orders_day_of_week 4 + 3, or 3783802 + 3840534)."
   ]
  },
  {
   "cell_type": "markdown",
   "id": "f03a98a2",
   "metadata": {},
   "source": [
    "## STEP4"
   ]
  },
  {
   "cell_type": "code",
   "execution_count": 18,
   "id": "2a403b9a",
   "metadata": {},
   "outputs": [
    {
     "data": {
      "text/plain": [
       "10    2761760\n",
       "11    2736140\n",
       "14    2689136\n",
       "15    2662144\n",
       "13    2660954\n",
       "12    2618532\n",
       "16    2535202\n",
       "9     2454203\n",
       "17    2087654\n",
       "8     1718118\n",
       "18    1636502\n",
       "19    1258305\n",
       "20     976156\n",
       "7      891054\n",
       "21     795637\n",
       "22     634225\n",
       "23     402316\n",
       "6      290493\n",
       "0      218769\n",
       "1      115700\n",
       "5       87961\n",
       "2       69375\n",
       "4       53242\n",
       "3       51281\n",
       "Name: order_hour_of_day, dtype: int64"
      ]
     },
     "execution_count": 18,
     "metadata": {},
     "output_type": "execute_result"
    }
   ],
   "source": [
    "# Check value counts in \"order_hour_of_day\" column.\n",
    "df_ords_prods_merge['order_hour_of_day'].value_counts()"
   ]
  },
  {
   "cell_type": "markdown",
   "id": "3664baee",
   "metadata": {},
   "source": [
    "The value counts listed above will be split into equal thirds for the following labels: \"Most orders\" = 10, 11, 14, 15, 13, 12, 16, 9; \"Fewest orders\" = 23, 6, 0, 1, 5, 2, 4, and 3; \"Average orders\" = all remaining values in order_hour_of_day."
   ]
  },
  {
   "cell_type": "code",
   "execution_count": 19,
   "id": "14a28a46",
   "metadata": {},
   "outputs": [],
   "source": [
    "# Create for-loop if statement labeling periods of time as “Most orders,” “Average orders,” and “Fewest orders.”\n",
    "\n",
    "result_3 = []\n",
    "\n",
    "for value in df_ords_prods_merge[\"order_hour_of_day\"]:\n",
    "  if value in [10, 11, 14, 15, 13, 12, 16, 9]:\n",
    "    result_3.append(\"Most orders\")\n",
    "  elif value in [23,6,0, 1, 5, 2, 4, 3]:\n",
    "    result_3.append(\"Fewest orders\")\n",
    "  else:\n",
    "    result_3.append(\"Average orders\")"
   ]
  },
  {
   "cell_type": "code",
   "execution_count": 20,
   "id": "c5868e7b",
   "metadata": {},
   "outputs": [],
   "source": [
    "# Create new column \"busiest_period_of_day\" in ords_prods_merge.\n",
    "\n",
    "df_ords_prods_merge['busiest_period_of_day'] = result_3"
   ]
  },
  {
   "cell_type": "markdown",
   "id": "f89dbdd9",
   "metadata": {},
   "source": [
    "## STEP5"
   ]
  },
  {
   "cell_type": "code",
   "execution_count": 21,
   "id": "b1f8b466",
   "metadata": {},
   "outputs": [
    {
     "data": {
      "text/plain": [
       "Most orders       21118071\n",
       "Average orders     9997651\n",
       "Fewest orders      1289137\n",
       "Name: busiest_period_of_day, dtype: int64"
      ]
     },
     "execution_count": 21,
     "metadata": {},
     "output_type": "execute_result"
    }
   ],
   "source": [
    "df_ords_prods_merge['busiest_period_of_day'].value_counts(dropna = False)"
   ]
  },
  {
   "cell_type": "markdown",
   "id": "52b6472c",
   "metadata": {},
   "source": [
    "# Export Dataframe"
   ]
  },
  {
   "cell_type": "code",
   "execution_count": 22,
   "id": "51652977",
   "metadata": {},
   "outputs": [],
   "source": [
    "df_ords_prods_merge.to_pickle(os.path.join(path, '02 Data', 'Prepared Data', 'ords_prods_merge_derived.pkl'))"
   ]
  },
  {
   "cell_type": "code",
   "execution_count": null,
   "id": "0cdc9eed",
   "metadata": {},
   "outputs": [],
   "source": []
  }
 ],
 "metadata": {
  "kernelspec": {
   "display_name": "Python 3 (ipykernel)",
   "language": "python",
   "name": "python3"
  },
  "language_info": {
   "codemirror_mode": {
    "name": "ipython",
    "version": 3
   },
   "file_extension": ".py",
   "mimetype": "text/x-python",
   "name": "python",
   "nbconvert_exporter": "python",
   "pygments_lexer": "ipython3",
   "version": "3.9.7"
  },
  "toc": {
   "base_numbering": 1,
   "nav_menu": {},
   "number_sections": true,
   "sideBar": true,
   "skip_h1_title": false,
   "title_cell": "Table of Contents",
   "title_sidebar": "Contents",
   "toc_cell": false,
   "toc_position": {},
   "toc_section_display": true,
   "toc_window_display": false
  }
 },
 "nbformat": 4,
 "nbformat_minor": 5
}
