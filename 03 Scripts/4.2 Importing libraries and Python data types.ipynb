{
 "cells": [
  {
   "cell_type": "markdown",
   "id": "76169547",
   "metadata": {},
   "source": [
    "# 01. Importing libraries"
   ]
  },
  {
   "cell_type": "code",
   "execution_count": 1,
   "id": "0a92b8d6",
   "metadata": {},
   "outputs": [],
   "source": [
    "# inport libraries\n",
    "import pandas as pd\n",
    "import numpy as np\n",
    "import os"
   ]
  },
  {
   "cell_type": "markdown",
   "id": "e49cc66f",
   "metadata": {},
   "source": [
    "# Data types"
   ]
  },
  {
   "cell_type": "code",
   "execution_count": 2,
   "id": "3a862dd7",
   "metadata": {},
   "outputs": [],
   "source": [
    "# https://www.w3schools.com/python/python_operators.asp |operations guide"
   ]
  },
  {
   "cell_type": "markdown",
   "id": "b2e05001",
   "metadata": {},
   "source": [
    "## STEP7"
   ]
  },
  {
   "cell_type": "code",
   "execution_count": 1,
   "id": "29506682",
   "metadata": {},
   "outputs": [],
   "source": [
    "# Code 3 different ways of reaching a result of 100 "
   ]
  },
  {
   "cell_type": "code",
   "execution_count": 2,
   "id": "b938a1b6",
   "metadata": {},
   "outputs": [
    {
     "name": "stdout",
     "output_type": "stream",
     "text": [
      "100\n"
     ]
    }
   ],
   "source": [
    "x=50\n",
    "y=50\n",
    "print(x+y)"
   ]
  },
  {
   "cell_type": "code",
   "execution_count": 4,
   "id": "f99e5fe9",
   "metadata": {},
   "outputs": [
    {
     "name": "stdout",
     "output_type": "stream",
     "text": [
      "100\n"
     ]
    }
   ],
   "source": [
    "x=150\n",
    "y=50\n",
    "print(x-y)"
   ]
  },
  {
   "cell_type": "code",
   "execution_count": 5,
   "id": "23719fb2",
   "metadata": {},
   "outputs": [
    {
     "name": "stdout",
     "output_type": "stream",
     "text": [
      "100\n"
     ]
    }
   ],
   "source": [
    "x=10\n",
    "y=10\n",
    "print(x*y)"
   ]
  },
  {
   "cell_type": "markdown",
   "id": "7e52d279",
   "metadata": {},
   "source": [
    "## STEP8"
   ]
  },
  {
   "cell_type": "code",
   "execution_count": 6,
   "id": "6af95d92",
   "metadata": {},
   "outputs": [],
   "source": [
    "# Code 2 floating-point variables and divide them"
   ]
  },
  {
   "cell_type": "code",
   "execution_count": 7,
   "id": "e9d23dcc",
   "metadata": {},
   "outputs": [
    {
     "name": "stdout",
     "output_type": "stream",
     "text": [
      "3.0\n"
     ]
    }
   ],
   "source": [
    "x=3.333\n",
    "y=1.111\n",
    "print(x/y)"
   ]
  },
  {
   "cell_type": "code",
   "execution_count": 8,
   "id": "4cfab869",
   "metadata": {},
   "outputs": [
    {
     "data": {
      "text/plain": [
       "26.166666666666668"
      ]
     },
     "execution_count": 8,
     "metadata": {},
     "output_type": "execute_result"
    }
   ],
   "source": [
    "x=3.14\n",
    "y=0.12\n",
    "x/y"
   ]
  },
  {
   "cell_type": "markdown",
   "id": "6b017e5c",
   "metadata": {},
   "source": [
    "## STEP9"
   ]
  },
  {
   "cell_type": "code",
   "execution_count": 9,
   "id": "72b9d97f",
   "metadata": {},
   "outputs": [],
   "source": [
    "# Construct a short word made of separate strings "
   ]
  },
  {
   "cell_type": "code",
   "execution_count": 10,
   "id": "057f0af7",
   "metadata": {},
   "outputs": [],
   "source": [
    "x='Grand'\n",
    "y='Panda'"
   ]
  },
  {
   "cell_type": "code",
   "execution_count": 11,
   "id": "0567a7ad",
   "metadata": {},
   "outputs": [
    {
     "name": "stdout",
     "output_type": "stream",
     "text": [
      "GrandPanda\n"
     ]
    }
   ],
   "source": [
    "print(x+y)"
   ]
  },
  {
   "cell_type": "markdown",
   "id": "1fd31c0a",
   "metadata": {},
   "source": [
    "## STEP10"
   ]
  },
  {
   "cell_type": "code",
   "execution_count": 12,
   "id": "781dc1a8",
   "metadata": {},
   "outputs": [],
   "source": [
    "# Construct 2 short sentences made of separate strings"
   ]
  },
  {
   "cell_type": "code",
   "execution_count": 13,
   "id": "3fb6d891",
   "metadata": {},
   "outputs": [
    {
     "name": "stdout",
     "output_type": "stream",
     "text": [
      "Panda is cute.\n"
     ]
    }
   ],
   "source": [
    "x='Panda '\n",
    "y='is '\n",
    "z='cute.'\n",
    "print(x+y+z)"
   ]
  },
  {
   "cell_type": "code",
   "execution_count": 15,
   "id": "3d345350",
   "metadata": {},
   "outputs": [
    {
     "name": "stdout",
     "output_type": "stream",
     "text": [
      "I wanna to be good at python.\n"
     ]
    }
   ],
   "source": [
    "x='I wanna to '\n",
    "y='be good at '\n",
    "z='python.'\n",
    "print(x+y+z)"
   ]
  },
  {
   "cell_type": "markdown",
   "id": "4ff3d353",
   "metadata": {},
   "source": [
    "## Bonus Task"
   ]
  },
  {
   "cell_type": "code",
   "execution_count": 16,
   "id": "6358c20a",
   "metadata": {},
   "outputs": [
    {
     "name": "stdout",
     "output_type": "stream",
     "text": [
      "!GOAL!!GOAL!!GOAL!!GOAL!!GOAL!!GOAL!!GOAL!!GOAL!!GOAL!!GOAL!!GOAL!!GOAL!!GOAL!!GOAL!!GOAL!!GOAL!!GOAL!!GOAL!!GOAL!!GOAL!!GOAL!!GOAL!!GOAL!!GOAL!!GOAL!!GOAL!!GOAL!!GOAL!!GOAL!!GOAL!!GOAL!!GOAL!!GOAL!!GOAL!!GOAL!!GOAL!!GOAL!!GOAL!!GOAL!!GOAL!!GOAL!!GOAL!!GOAL!!GOAL!!GOAL!!GOAL!!GOAL!!GOAL!!GOAL!!GOAL!!GOAL!!GOAL!!GOAL!!GOAL!!GOAL!!GOAL!!GOAL!!GOAL!!GOAL!!GOAL!!GOAL!!GOAL!!GOAL!!GOAL!!GOAL!!GOAL!!GOAL!!GOAL!!GOAL!!GOAL!!GOAL!!GOAL!!GOAL!!GOAL!!GOAL!!GOAL!!GOAL!!GOAL!!GOAL!!GOAL!!GOAL!!GOAL!!GOAL!!GOAL!!GOAL!!GOAL!!GOAL!!GOAL!!GOAL!!GOAL!!GOAL!!GOAL!!GOAL!!GOAL!!GOAL!!GOAL!!GOAL!!GOAL!!GOAL!!GOAL!\n"
     ]
    }
   ],
   "source": [
    "print('!GOAL!'*100)"
   ]
  },
  {
   "cell_type": "code",
   "execution_count": null,
   "id": "6c726c1c",
   "metadata": {},
   "outputs": [],
   "source": []
  }
 ],
 "metadata": {
  "kernelspec": {
   "display_name": "Python 3 (ipykernel)",
   "language": "python",
   "name": "python3"
  },
  "language_info": {
   "codemirror_mode": {
    "name": "ipython",
    "version": 3
   },
   "file_extension": ".py",
   "mimetype": "text/x-python",
   "name": "python",
   "nbconvert_exporter": "python",
   "pygments_lexer": "ipython3",
   "version": "3.9.7"
  },
  "toc": {
   "base_numbering": 1,
   "nav_menu": {},
   "number_sections": true,
   "sideBar": true,
   "skip_h1_title": false,
   "title_cell": "Table of Contents",
   "title_sidebar": "Contents",
   "toc_cell": false,
   "toc_position": {},
   "toc_section_display": true,
   "toc_window_display": false
  }
 },
 "nbformat": 4,
 "nbformat_minor": 5
}
